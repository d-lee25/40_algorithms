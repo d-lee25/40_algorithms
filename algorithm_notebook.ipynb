{
 "cells": [
  {
   "cell_type": "code",
   "execution_count": 12,
   "id": "33b313f0-9a7a-479c-9ced-539b44a072bb",
   "metadata": {},
   "outputs": [],
   "source": [
    "import cProfile\n",
    "import numpy as np"
   ]
  },
  {
   "cell_type": "code",
   "execution_count": 41,
   "id": "afc992f8-a496-4e47-8e7a-bf46c5d9c206",
   "metadata": {},
   "outputs": [
    {
     "name": "stdout",
     "output_type": "stream",
     "text": [
      "         5 function calls in 0.566 seconds\n",
      "\n",
      "   Ordered by: standard name\n",
      "\n",
      "   ncalls  tottime  percall  cumtime  percall filename:lineno(function)\n",
      "        1    0.000    0.000    0.566    0.566 <string>:1(<module>)\n",
      "        1    0.566    0.566    0.566    0.566 sorting.py:9(bubble_sort)\n",
      "        1    0.000    0.000    0.566    0.566 {built-in method builtins.exec}\n",
      "        1    0.000    0.000    0.000    0.000 {built-in method builtins.len}\n",
      "        1    0.000    0.000    0.000    0.000 {method 'disable' of '_lsprof.Profiler' objects}\n",
      "\n",
      "\n"
     ]
    }
   ],
   "source": [
    "# check bubble sort\n",
    "from src.sorting import bubble_sort\n",
    "l1 = np.random.randint(0, 1000, 2000)\n",
    "cProfile.run('bubble_sort(l1)')"
   ]
  },
  {
   "cell_type": "code",
   "execution_count": 32,
   "id": "a76858b2-dd99-4387-8c80-5bde0fa514c3",
   "metadata": {},
   "outputs": [],
   "source": [
    "bubble_sort("
   ]
  },
  {
   "cell_type": "code",
   "execution_count": 33,
   "id": "147fd2fb-2c9d-49f5-9934-d1a9be13012d",
   "metadata": {},
   "outputs": [],
   "source": []
  },
  {
   "cell_type": "code",
   "execution_count": null,
   "id": "caf41e6f-8bd0-4fcb-9894-c389a30d1eb3",
   "metadata": {},
   "outputs": [],
   "source": []
  },
  {
   "cell_type": "code",
   "execution_count": null,
   "id": "e544dd33-b78b-4fc6-9386-39dee3bb5287",
   "metadata": {},
   "outputs": [],
   "source": []
  },
  {
   "cell_type": "code",
   "execution_count": null,
   "id": "600a9fc6-d302-42be-9a49-62774de7bee0",
   "metadata": {},
   "outputs": [],
   "source": []
  },
  {
   "cell_type": "code",
   "execution_count": null,
   "id": "59894fc7-753a-4fcf-b7cf-e238007eec4b",
   "metadata": {},
   "outputs": [],
   "source": []
  }
 ],
 "metadata": {
  "kernelspec": {
   "display_name": ".venv",
   "language": "python",
   "name": ".venv"
  },
  "language_info": {
   "codemirror_mode": {
    "name": "ipython",
    "version": 3
   },
   "file_extension": ".py",
   "mimetype": "text/x-python",
   "name": "python",
   "nbconvert_exporter": "python",
   "pygments_lexer": "ipython3",
   "version": "3.11.0rc1"
  }
 },
 "nbformat": 4,
 "nbformat_minor": 5
}
